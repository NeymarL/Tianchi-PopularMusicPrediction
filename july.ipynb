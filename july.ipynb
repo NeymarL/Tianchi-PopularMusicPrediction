{
 "cells": [
  {
   "cell_type": "markdown",
   "metadata": {},
   "source": [
    "# 直接把7、8月的当成9、10月的"
   ]
  },
  {
   "cell_type": "code",
   "execution_count": 1,
   "metadata": {
    "collapsed": true
   },
   "outputs": [],
   "source": [
    "import numpy as np\n",
    "import pandas as pd"
   ]
  },
  {
   "cell_type": "code",
   "execution_count": 2,
   "metadata": {
    "collapsed": false
   },
   "outputs": [
    {
     "data": {
      "text/html": [
       "<div>\n",
       "<table border=\"1\" class=\"dataframe\">\n",
       "  <thead>\n",
       "    <tr style=\"text-align: right;\">\n",
       "      <th></th>\n",
       "      <th>user_id</th>\n",
       "      <th>song_id</th>\n",
       "      <th>gmt_create</th>\n",
       "      <th>action_type</th>\n",
       "      <th>Ds</th>\n",
       "      <th>artist_id</th>\n",
       "      <th>publish_time</th>\n",
       "      <th>song_init_plays</th>\n",
       "      <th>language</th>\n",
       "      <th>gender</th>\n",
       "    </tr>\n",
       "  </thead>\n",
       "  <tbody>\n",
       "    <tr>\n",
       "      <th>0</th>\n",
       "      <td>7063b3d0c075a4d276c5f06f4327cf4a</td>\n",
       "      <td>effb071415be51f11e845884e67c0f8c</td>\n",
       "      <td>1426406400</td>\n",
       "      <td>1</td>\n",
       "      <td>20150315</td>\n",
       "      <td>2ec1450a1389d4e3fc2a9a76c9378bb3</td>\n",
       "      <td>20110515</td>\n",
       "      <td>165494</td>\n",
       "      <td>1</td>\n",
       "      <td>2</td>\n",
       "    </tr>\n",
       "    <tr>\n",
       "      <th>1</th>\n",
       "      <td>57b36cad7d86cdc69e8f18138f8f4741</td>\n",
       "      <td>effb071415be51f11e845884e67c0f8c</td>\n",
       "      <td>1426424400</td>\n",
       "      <td>1</td>\n",
       "      <td>20150315</td>\n",
       "      <td>2ec1450a1389d4e3fc2a9a76c9378bb3</td>\n",
       "      <td>20110515</td>\n",
       "      <td>165494</td>\n",
       "      <td>1</td>\n",
       "      <td>2</td>\n",
       "    </tr>\n",
       "    <tr>\n",
       "      <th>2</th>\n",
       "      <td>dfa6fddc693133bbaa6ed1076d877557</td>\n",
       "      <td>effb071415be51f11e845884e67c0f8c</td>\n",
       "      <td>1426420800</td>\n",
       "      <td>1</td>\n",
       "      <td>20150315</td>\n",
       "      <td>2ec1450a1389d4e3fc2a9a76c9378bb3</td>\n",
       "      <td>20110515</td>\n",
       "      <td>165494</td>\n",
       "      <td>1</td>\n",
       "      <td>2</td>\n",
       "    </tr>\n",
       "    <tr>\n",
       "      <th>3</th>\n",
       "      <td>b2982712434c578eeffda9188f9d993b</td>\n",
       "      <td>effb071415be51f11e845884e67c0f8c</td>\n",
       "      <td>1426381200</td>\n",
       "      <td>1</td>\n",
       "      <td>20150315</td>\n",
       "      <td>2ec1450a1389d4e3fc2a9a76c9378bb3</td>\n",
       "      <td>20110515</td>\n",
       "      <td>165494</td>\n",
       "      <td>1</td>\n",
       "      <td>2</td>\n",
       "    </tr>\n",
       "    <tr>\n",
       "      <th>4</th>\n",
       "      <td>ef23d47c177f4cc9461752199da22877</td>\n",
       "      <td>effb071415be51f11e845884e67c0f8c</td>\n",
       "      <td>1426424400</td>\n",
       "      <td>2</td>\n",
       "      <td>20150315</td>\n",
       "      <td>2ec1450a1389d4e3fc2a9a76c9378bb3</td>\n",
       "      <td>20110515</td>\n",
       "      <td>165494</td>\n",
       "      <td>1</td>\n",
       "      <td>2</td>\n",
       "    </tr>\n",
       "  </tbody>\n",
       "</table>\n",
       "</div>"
      ],
      "text/plain": [
       "                            user_id                           song_id  \\\n",
       "0  7063b3d0c075a4d276c5f06f4327cf4a  effb071415be51f11e845884e67c0f8c   \n",
       "1  57b36cad7d86cdc69e8f18138f8f4741  effb071415be51f11e845884e67c0f8c   \n",
       "2  dfa6fddc693133bbaa6ed1076d877557  effb071415be51f11e845884e67c0f8c   \n",
       "3  b2982712434c578eeffda9188f9d993b  effb071415be51f11e845884e67c0f8c   \n",
       "4  ef23d47c177f4cc9461752199da22877  effb071415be51f11e845884e67c0f8c   \n",
       "\n",
       "   gmt_create  action_type        Ds                         artist_id  \\\n",
       "0  1426406400            1  20150315  2ec1450a1389d4e3fc2a9a76c9378bb3   \n",
       "1  1426424400            1  20150315  2ec1450a1389d4e3fc2a9a76c9378bb3   \n",
       "2  1426420800            1  20150315  2ec1450a1389d4e3fc2a9a76c9378bb3   \n",
       "3  1426381200            1  20150315  2ec1450a1389d4e3fc2a9a76c9378bb3   \n",
       "4  1426424400            2  20150315  2ec1450a1389d4e3fc2a9a76c9378bb3   \n",
       "\n",
       "   publish_time  song_init_plays  language  gender  \n",
       "0      20110515           165494         1       2  \n",
       "1      20110515           165494         1       2  \n",
       "2      20110515           165494         1       2  \n",
       "3      20110515           165494         1       2  \n",
       "4      20110515           165494         1       2  "
      ]
     },
     "execution_count": 2,
     "metadata": {},
     "output_type": "execute_result"
    }
   ],
   "source": [
    "ua = pd.read_csv('datas/mars_tianchi_user_actions.csv')\n",
    "so = pd.read_csv('datas/mars_tianchi_songs.csv')\n",
    "data = pd.merge(ua, so, on=['song_id'])\n",
    "data.head()"
   ]
  },
  {
   "cell_type": "code",
   "execution_count": 11,
   "metadata": {
    "collapsed": true
   },
   "outputs": [],
   "source": [
    "plays = data[data.action_type == 1].groupby(['artist_id', 'Ds'])['action_type'].sum()"
   ]
  },
  {
   "cell_type": "code",
   "execution_count": 12,
   "metadata": {
    "collapsed": false
   },
   "outputs": [
    {
     "data": {
      "text/html": [
       "<div>\n",
       "<table border=\"1\" class=\"dataframe\">\n",
       "  <thead>\n",
       "    <tr style=\"text-align: right;\">\n",
       "      <th></th>\n",
       "      <th>artist_id</th>\n",
       "      <th>Ds</th>\n",
       "      <th>plays</th>\n",
       "    </tr>\n",
       "  </thead>\n",
       "  <tbody>\n",
       "    <tr>\n",
       "      <th>0</th>\n",
       "      <td>023406156015ef87f99521f3b343f71f</td>\n",
       "      <td>20150301</td>\n",
       "      <td>482</td>\n",
       "    </tr>\n",
       "    <tr>\n",
       "      <th>1</th>\n",
       "      <td>023406156015ef87f99521f3b343f71f</td>\n",
       "      <td>20150302</td>\n",
       "      <td>449</td>\n",
       "    </tr>\n",
       "    <tr>\n",
       "      <th>2</th>\n",
       "      <td>023406156015ef87f99521f3b343f71f</td>\n",
       "      <td>20150303</td>\n",
       "      <td>474</td>\n",
       "    </tr>\n",
       "    <tr>\n",
       "      <th>3</th>\n",
       "      <td>023406156015ef87f99521f3b343f71f</td>\n",
       "      <td>20150304</td>\n",
       "      <td>458</td>\n",
       "    </tr>\n",
       "    <tr>\n",
       "      <th>4</th>\n",
       "      <td>023406156015ef87f99521f3b343f71f</td>\n",
       "      <td>20150305</td>\n",
       "      <td>398</td>\n",
       "    </tr>\n",
       "  </tbody>\n",
       "</table>\n",
       "</div>"
      ],
      "text/plain": [
       "                          artist_id        Ds  plays\n",
       "0  023406156015ef87f99521f3b343f71f  20150301    482\n",
       "1  023406156015ef87f99521f3b343f71f  20150302    449\n",
       "2  023406156015ef87f99521f3b343f71f  20150303    474\n",
       "3  023406156015ef87f99521f3b343f71f  20150304    458\n",
       "4  023406156015ef87f99521f3b343f71f  20150305    398"
      ]
     },
     "execution_count": 12,
     "metadata": {},
     "output_type": "execute_result"
    }
   ],
   "source": [
    "plays.to_csv('datas/temp.csv')\n",
    "plays = pd.read_csv('datas/temp.csv', names=['artist_id', 'Ds', 'plays'])\n",
    "plays.head()"
   ]
  },
  {
   "cell_type": "code",
   "execution_count": 13,
   "metadata": {
    "collapsed": false
   },
   "outputs": [
    {
     "data": {
      "text/html": [
       "<div>\n",
       "<table border=\"1\" class=\"dataframe\">\n",
       "  <thead>\n",
       "    <tr style=\"text-align: right;\">\n",
       "      <th></th>\n",
       "      <th>artist_id</th>\n",
       "      <th>Ds</th>\n",
       "      <th>plays</th>\n",
       "    </tr>\n",
       "  </thead>\n",
       "  <tbody>\n",
       "    <tr>\n",
       "      <th>122</th>\n",
       "      <td>023406156015ef87f99521f3b343f71f</td>\n",
       "      <td>20150701</td>\n",
       "      <td>440</td>\n",
       "    </tr>\n",
       "    <tr>\n",
       "      <th>123</th>\n",
       "      <td>023406156015ef87f99521f3b343f71f</td>\n",
       "      <td>20150702</td>\n",
       "      <td>571</td>\n",
       "    </tr>\n",
       "    <tr>\n",
       "      <th>124</th>\n",
       "      <td>023406156015ef87f99521f3b343f71f</td>\n",
       "      <td>20150703</td>\n",
       "      <td>376</td>\n",
       "    </tr>\n",
       "    <tr>\n",
       "      <th>125</th>\n",
       "      <td>023406156015ef87f99521f3b343f71f</td>\n",
       "      <td>20150704</td>\n",
       "      <td>383</td>\n",
       "    </tr>\n",
       "    <tr>\n",
       "      <th>126</th>\n",
       "      <td>023406156015ef87f99521f3b343f71f</td>\n",
       "      <td>20150705</td>\n",
       "      <td>429</td>\n",
       "    </tr>\n",
       "  </tbody>\n",
       "</table>\n",
       "</div>"
      ],
      "text/plain": [
       "                            artist_id        Ds  plays\n",
       "122  023406156015ef87f99521f3b343f71f  20150701    440\n",
       "123  023406156015ef87f99521f3b343f71f  20150702    571\n",
       "124  023406156015ef87f99521f3b343f71f  20150703    376\n",
       "125  023406156015ef87f99521f3b343f71f  20150704    383\n",
       "126  023406156015ef87f99521f3b343f71f  20150705    429"
      ]
     },
     "execution_count": 13,
     "metadata": {},
     "output_type": "execute_result"
    }
   ],
   "source": [
    "july = plays[(plays.Ds >= 20150701) & (plays.Ds <= 20150830)]\n",
    "july.head()"
   ]
  },
  {
   "cell_type": "code",
   "execution_count": 14,
   "metadata": {
    "collapsed": false
   },
   "outputs": [],
   "source": [
    "ds = july.pop('Ds')\n",
    "ds = ds.add(200)"
   ]
  },
  {
   "cell_type": "code",
   "execution_count": 15,
   "metadata": {
    "collapsed": false
   },
   "outputs": [
    {
     "name": "stderr",
     "output_type": "stream",
     "text": [
      "/usr/local/lib/python2.7/site-packages/ipykernel/__main__.py:1: SettingWithCopyWarning: \n",
      "A value is trying to be set on a copy of a slice from a DataFrame.\n",
      "Try using .loc[row_indexer,col_indexer] = value instead\n",
      "\n",
      "See the caveats in the documentation: http://pandas.pydata.org/pandas-docs/stable/indexing.html#indexing-view-versus-copy\n",
      "  if __name__ == '__main__':\n"
     ]
    },
    {
     "data": {
      "text/html": [
       "<div>\n",
       "<table border=\"1\" class=\"dataframe\">\n",
       "  <thead>\n",
       "    <tr style=\"text-align: right;\">\n",
       "      <th></th>\n",
       "      <th>artist_id</th>\n",
       "      <th>plays</th>\n",
       "      <th>Ds</th>\n",
       "    </tr>\n",
       "  </thead>\n",
       "  <tbody>\n",
       "    <tr>\n",
       "      <th>122</th>\n",
       "      <td>023406156015ef87f99521f3b343f71f</td>\n",
       "      <td>440</td>\n",
       "      <td>20150901</td>\n",
       "    </tr>\n",
       "    <tr>\n",
       "      <th>123</th>\n",
       "      <td>023406156015ef87f99521f3b343f71f</td>\n",
       "      <td>571</td>\n",
       "      <td>20150902</td>\n",
       "    </tr>\n",
       "    <tr>\n",
       "      <th>124</th>\n",
       "      <td>023406156015ef87f99521f3b343f71f</td>\n",
       "      <td>376</td>\n",
       "      <td>20150903</td>\n",
       "    </tr>\n",
       "    <tr>\n",
       "      <th>125</th>\n",
       "      <td>023406156015ef87f99521f3b343f71f</td>\n",
       "      <td>383</td>\n",
       "      <td>20150904</td>\n",
       "    </tr>\n",
       "    <tr>\n",
       "      <th>126</th>\n",
       "      <td>023406156015ef87f99521f3b343f71f</td>\n",
       "      <td>429</td>\n",
       "      <td>20150905</td>\n",
       "    </tr>\n",
       "  </tbody>\n",
       "</table>\n",
       "</div>"
      ],
      "text/plain": [
       "                            artist_id  plays        Ds\n",
       "122  023406156015ef87f99521f3b343f71f    440  20150901\n",
       "123  023406156015ef87f99521f3b343f71f    571  20150902\n",
       "124  023406156015ef87f99521f3b343f71f    376  20150903\n",
       "125  023406156015ef87f99521f3b343f71f    383  20150904\n",
       "126  023406156015ef87f99521f3b343f71f    429  20150905"
      ]
     },
     "execution_count": 15,
     "metadata": {},
     "output_type": "execute_result"
    }
   ],
   "source": [
    "july['Ds'] = ds\n",
    "july.head()"
   ]
  },
  {
   "cell_type": "code",
   "execution_count": 16,
   "metadata": {
    "collapsed": true
   },
   "outputs": [],
   "source": [
    "july.to_csv('datas/july.csv', index=False)"
   ]
  },
  {
   "cell_type": "code",
   "execution_count": null,
   "metadata": {
    "collapsed": true
   },
   "outputs": [],
   "source": []
  }
 ],
 "metadata": {
  "kernelspec": {
   "display_name": "Python 2",
   "language": "python",
   "name": "python2"
  },
  "language_info": {
   "codemirror_mode": {
    "name": "ipython",
    "version": 2
   },
   "file_extension": ".py",
   "mimetype": "text/x-python",
   "name": "python",
   "nbconvert_exporter": "python",
   "pygments_lexer": "ipython2",
   "version": "2.7.11"
  }
 },
 "nbformat": 4,
 "nbformat_minor": 0
}
