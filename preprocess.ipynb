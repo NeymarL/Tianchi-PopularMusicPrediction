{
 "cells": [
  {
   "cell_type": "code",
   "execution_count": 1,
   "metadata": {
    "collapsed": true
   },
   "outputs": [],
   "source": [
    "import pandas as pd\n",
    "import numpy as np\n",
    "import matplotlib.pylab as plt\n",
    "%matplotlib inline\n",
    "from matplotlib.pylab import rcParams\n",
    "rcParams['figure.figsize'] = 15, 6"
   ]
  },
  {
   "cell_type": "code",
   "execution_count": 2,
   "metadata": {
    "collapsed": true
   },
   "outputs": [],
   "source": [
    "dateparse = lambda dates: pd.datetime.strptime(dates, '%Y%m%d')\n",
    "arts = pd.read_csv('datas/arts.csv', names=['artist_id', 'Ds', 'plays'],\n",
    "                   parse_dates='Ds', date_parser=dateparse, index_col='Ds')"
   ]
  },
  {
   "cell_type": "code",
   "execution_count": 3,
   "metadata": {
    "collapsed": true
   },
   "outputs": [],
   "source": [
    "so = pd.read_csv('datas/p2_mars_tianchi_songs.csv')"
   ]
  },
  {
   "cell_type": "code",
   "execution_count": 4,
   "metadata": {
    "collapsed": false
   },
   "outputs": [
    {
     "data": {
      "text/html": [
       "<div>\n",
       "<table border=\"1\" class=\"dataframe\">\n",
       "  <thead>\n",
       "    <tr style=\"text-align: right;\">\n",
       "      <th></th>\n",
       "      <th>song_id</th>\n",
       "      <th>artist_id</th>\n",
       "      <th>publish_time</th>\n",
       "      <th>song_init_plays</th>\n",
       "      <th>language</th>\n",
       "      <th>gender</th>\n",
       "    </tr>\n",
       "  </thead>\n",
       "  <tbody>\n",
       "    <tr>\n",
       "      <th>0</th>\n",
       "      <td>c81f89cf7edd24930641afa2e411b09c</td>\n",
       "      <td>03c6699ea836decbc5c8fc2dbae7bd3b</td>\n",
       "      <td>20150325</td>\n",
       "      <td>0</td>\n",
       "      <td>100</td>\n",
       "      <td>1</td>\n",
       "    </tr>\n",
       "    <tr>\n",
       "      <th>1</th>\n",
       "      <td>c0d7130777c1f1c417e78646946ed909</td>\n",
       "      <td>03c6699ea836decbc5c8fc2dbae7bd3b</td>\n",
       "      <td>20150325</td>\n",
       "      <td>0</td>\n",
       "      <td>100</td>\n",
       "      <td>1</td>\n",
       "    </tr>\n",
       "    <tr>\n",
       "      <th>2</th>\n",
       "      <td>200c9131cf929bab418d380356be5f42</td>\n",
       "      <td>03c6699ea836decbc5c8fc2dbae7bd3b</td>\n",
       "      <td>20150325</td>\n",
       "      <td>0</td>\n",
       "      <td>100</td>\n",
       "      <td>1</td>\n",
       "    </tr>\n",
       "    <tr>\n",
       "      <th>3</th>\n",
       "      <td>78fedfdf13fc820e363e39986ff91e94</td>\n",
       "      <td>03c6699ea836decbc5c8fc2dbae7bd3b</td>\n",
       "      <td>20110910</td>\n",
       "      <td>1717</td>\n",
       "      <td>1</td>\n",
       "      <td>1</td>\n",
       "    </tr>\n",
       "    <tr>\n",
       "      <th>4</th>\n",
       "      <td>95b99faf432d33772d63f828bf2d0921</td>\n",
       "      <td>03c6699ea836decbc5c8fc2dbae7bd3b</td>\n",
       "      <td>20110910</td>\n",
       "      <td>434</td>\n",
       "      <td>1</td>\n",
       "      <td>1</td>\n",
       "    </tr>\n",
       "  </tbody>\n",
       "</table>\n",
       "</div>"
      ],
      "text/plain": [
       "                            song_id                         artist_id  \\\n",
       "0  c81f89cf7edd24930641afa2e411b09c  03c6699ea836decbc5c8fc2dbae7bd3b   \n",
       "1  c0d7130777c1f1c417e78646946ed909  03c6699ea836decbc5c8fc2dbae7bd3b   \n",
       "2  200c9131cf929bab418d380356be5f42  03c6699ea836decbc5c8fc2dbae7bd3b   \n",
       "3  78fedfdf13fc820e363e39986ff91e94  03c6699ea836decbc5c8fc2dbae7bd3b   \n",
       "4  95b99faf432d33772d63f828bf2d0921  03c6699ea836decbc5c8fc2dbae7bd3b   \n",
       "\n",
       "   publish_time  song_init_plays  language  gender  \n",
       "0      20150325                0       100       1  \n",
       "1      20150325                0       100       1  \n",
       "2      20150325                0       100       1  \n",
       "3      20110910             1717         1       1  \n",
       "4      20110910              434         1       1  "
      ]
     },
     "execution_count": 4,
     "metadata": {},
     "output_type": "execute_result"
    }
   ],
   "source": [
    "so.head()"
   ]
  },
  {
   "cell_type": "code",
   "execution_count": 10,
   "metadata": {
    "collapsed": false
   },
   "outputs": [],
   "source": [
    "aid = 'cd5ce8f47e50971ddb629d86a0bc34f2'"
   ]
  },
  {
   "cell_type": "code",
   "execution_count": 11,
   "metadata": {
    "collapsed": false
   },
   "outputs": [
    {
     "data": {
      "text/plain": [
       "[<matplotlib.lines.Line2D at 0x110429ed0>]"
      ]
     },
     "execution_count": 11,
     "metadata": {},
     "output_type": "execute_result"
    },
    {
     "data": {
      "image/png": "[encoded data removed]",
      "text/plain": [
       "<matplotlib.figure.Figure at 0x10a456090>"
      ]
     },
     "metadata": {},
     "output_type": "display_data"
    }
   ],
   "source": [
    "one = arts[arts.artist_id == aid]\n",
    "one.pop('artist_id')\n",
    "plt.plot(one)\n",
    "plt.plot(one['20150305':'20150306'])\n",
    "plt.plot(one['20150404':'20150406'])\n",
    "plt.plot(one['20150501':'20150503'])\n",
    "plt.plot(one['20150620':'20150622'])"
   ]
  },
  {
   "cell_type": "code",
   "execution_count": 12,
   "metadata": {
    "collapsed": false
   },
   "outputs": [
    {
     "data": {
      "text/html": [
       "<div>\n",
       "<table border=\"1\" class=\"dataframe\">\n",
       "  <thead>\n",
       "    <tr style=\"text-align: right;\">\n",
       "      <th></th>\n",
       "      <th>song_id</th>\n",
       "      <th>artist_id</th>\n",
       "      <th>publish_time</th>\n",
       "      <th>song_init_plays</th>\n",
       "      <th>language</th>\n",
       "      <th>gender</th>\n",
       "    </tr>\n",
       "  </thead>\n",
       "  <tbody>\n",
       "    <tr>\n",
       "      <th>10689</th>\n",
       "      <td>728bf1bf4b3aeab99955aeb7f2f7fd63</td>\n",
       "      <td>cd5ce8f47e50971ddb629d86a0bc34f2</td>\n",
       "      <td>20150810</td>\n",
       "      <td>0</td>\n",
       "      <td>1</td>\n",
       "      <td>1</td>\n",
       "    </tr>\n",
       "    <tr>\n",
       "      <th>10690</th>\n",
       "      <td>7a09960e37a01236d63bd1bfaba7c04a</td>\n",
       "      <td>cd5ce8f47e50971ddb629d86a0bc34f2</td>\n",
       "      <td>20150810</td>\n",
       "      <td>0</td>\n",
       "      <td>1</td>\n",
       "      <td>1</td>\n",
       "    </tr>\n",
       "    <tr>\n",
       "      <th>10695</th>\n",
       "      <td>d89f1eb495f478663460dfe352dde238</td>\n",
       "      <td>cd5ce8f47e50971ddb629d86a0bc34f2</td>\n",
       "      <td>20150810</td>\n",
       "      <td>0</td>\n",
       "      <td>1</td>\n",
       "      <td>1</td>\n",
       "    </tr>\n",
       "    <tr>\n",
       "      <th>10696</th>\n",
       "      <td>138e4bd877f678e943964120225c543e</td>\n",
       "      <td>cd5ce8f47e50971ddb629d86a0bc34f2</td>\n",
       "      <td>20150810</td>\n",
       "      <td>0</td>\n",
       "      <td>1</td>\n",
       "      <td>1</td>\n",
       "    </tr>\n",
       "    <tr>\n",
       "      <th>10697</th>\n",
       "      <td>5165c3b86af9cb6eaec754b0d9b6932c</td>\n",
       "      <td>cd5ce8f47e50971ddb629d86a0bc34f2</td>\n",
       "      <td>20160207</td>\n",
       "      <td>0</td>\n",
       "      <td>0</td>\n",
       "      <td>1</td>\n",
       "    </tr>\n",
       "    <tr>\n",
       "      <th>10707</th>\n",
       "      <td>32cdfa919b2e3b9f24825a0bbe620b7e</td>\n",
       "      <td>cd5ce8f47e50971ddb629d86a0bc34f2</td>\n",
       "      <td>20150810</td>\n",
       "      <td>0</td>\n",
       "      <td>1</td>\n",
       "      <td>1</td>\n",
       "    </tr>\n",
       "    <tr>\n",
       "      <th>10708</th>\n",
       "      <td>e058f7844ed2990dc512faf43933d470</td>\n",
       "      <td>cd5ce8f47e50971ddb629d86a0bc34f2</td>\n",
       "      <td>20150810</td>\n",
       "      <td>0</td>\n",
       "      <td>1</td>\n",
       "      <td>1</td>\n",
       "    </tr>\n",
       "    <tr>\n",
       "      <th>10709</th>\n",
       "      <td>f81f1c92ed9660bc63868231f9624737</td>\n",
       "      <td>cd5ce8f47e50971ddb629d86a0bc34f2</td>\n",
       "      <td>20150810</td>\n",
       "      <td>0</td>\n",
       "      <td>1</td>\n",
       "      <td>1</td>\n",
       "    </tr>\n",
       "    <tr>\n",
       "      <th>10749</th>\n",
       "      <td>0596af8ce73b1b20d82cf3b14a642fc4</td>\n",
       "      <td>cd5ce8f47e50971ddb629d86a0bc34f2</td>\n",
       "      <td>20150810</td>\n",
       "      <td>0</td>\n",
       "      <td>1</td>\n",
       "      <td>1</td>\n",
       "    </tr>\n",
       "    <tr>\n",
       "      <th>10750</th>\n",
       "      <td>8dea833b079d1de2865820d562a35f52</td>\n",
       "      <td>cd5ce8f47e50971ddb629d86a0bc34f2</td>\n",
       "      <td>20150810</td>\n",
       "      <td>0</td>\n",
       "      <td>1</td>\n",
       "      <td>1</td>\n",
       "    </tr>\n",
       "    <tr>\n",
       "      <th>10753</th>\n",
       "      <td>092b9c800ed54430e1a646a95ec9e37b</td>\n",
       "      <td>cd5ce8f47e50971ddb629d86a0bc34f2</td>\n",
       "      <td>20150810</td>\n",
       "      <td>0</td>\n",
       "      <td>1</td>\n",
       "      <td>1</td>\n",
       "    </tr>\n",
       "    <tr>\n",
       "      <th>10754</th>\n",
       "      <td>62a151dec25dd8107bedd2135fe661bf</td>\n",
       "      <td>cd5ce8f47e50971ddb629d86a0bc34f2</td>\n",
       "      <td>20150810</td>\n",
       "      <td>0</td>\n",
       "      <td>1</td>\n",
       "      <td>1</td>\n",
       "    </tr>\n",
       "    <tr>\n",
       "      <th>10755</th>\n",
       "      <td>88e5057717bccfba95c145617df55ed2</td>\n",
       "      <td>cd5ce8f47e50971ddb629d86a0bc34f2</td>\n",
       "      <td>20160207</td>\n",
       "      <td>95051</td>\n",
       "      <td>0</td>\n",
       "      <td>1</td>\n",
       "    </tr>\n",
       "    <tr>\n",
       "      <th>10764</th>\n",
       "      <td>ee17b7dd6092decf3103ca0a64791760</td>\n",
       "      <td>cd5ce8f47e50971ddb629d86a0bc34f2</td>\n",
       "      <td>20160207</td>\n",
       "      <td>67847</td>\n",
       "      <td>0</td>\n",
       "      <td>1</td>\n",
       "    </tr>\n",
       "    <tr>\n",
       "      <th>10770</th>\n",
       "      <td>5032f03cff19980b1e13ddc0cbe7cd1b</td>\n",
       "      <td>cd5ce8f47e50971ddb629d86a0bc34f2</td>\n",
       "      <td>20150810</td>\n",
       "      <td>0</td>\n",
       "      <td>1</td>\n",
       "      <td>1</td>\n",
       "    </tr>\n",
       "  </tbody>\n",
       "</table>\n",
       "</div>"
      ],
      "text/plain": [
       "                                song_id                         artist_id  \\\n",
       "10689  728bf1bf4b3aeab99955aeb7f2f7fd63  cd5ce8f47e50971ddb629d86a0bc34f2   \n",
       "10690  7a09960e37a01236d63bd1bfaba7c04a  cd5ce8f47e50971ddb629d86a0bc34f2   \n",
       "10695  d89f1eb495f478663460dfe352dde238  cd5ce8f47e50971ddb629d86a0bc34f2   \n",
       "10696  138e4bd877f678e943964120225c543e  cd5ce8f47e50971ddb629d86a0bc34f2   \n",
       "10697  5165c3b86af9cb6eaec754b0d9b6932c  cd5ce8f47e50971ddb629d86a0bc34f2   \n",
       "10707  32cdfa919b2e3b9f24825a0bbe620b7e  cd5ce8f47e50971ddb629d86a0bc34f2   \n",
       "10708  e058f7844ed2990dc512faf43933d470  cd5ce8f47e50971ddb629d86a0bc34f2   \n",
       "10709  f81f1c92ed9660bc63868231f9624737  cd5ce8f47e50971ddb629d86a0bc34f2   \n",
       "10749  0596af8ce73b1b20d82cf3b14a642fc4  cd5ce8f47e50971ddb629d86a0bc34f2   \n",
       "10750  8dea833b079d1de2865820d562a35f52  cd5ce8f47e50971ddb629d86a0bc34f2   \n",
       "10753  092b9c800ed54430e1a646a95ec9e37b  cd5ce8f47e50971ddb629d86a0bc34f2   \n",
       "10754  62a151dec25dd8107bedd2135fe661bf  cd5ce8f47e50971ddb629d86a0bc34f2   \n",
       "10755  88e5057717bccfba95c145617df55ed2  cd5ce8f47e50971ddb629d86a0bc34f2   \n",
       "10764  ee17b7dd6092decf3103ca0a64791760  cd5ce8f47e50971ddb629d86a0bc34f2   \n",
       "10770  5032f03cff19980b1e13ddc0cbe7cd1b  cd5ce8f47e50971ddb629d86a0bc34f2   \n",
       "\n",
       "       publish_time  song_init_plays  language  gender  \n",
       "10689      20150810                0         1       1  \n",
       "10690      20150810                0         1       1  \n",
       "10695      20150810                0         1       1  \n",
       "10696      20150810                0         1       1  \n",
       "10697      20160207                0         0       1  \n",
       "10707      20150810                0         1       1  \n",
       "10708      20150810                0         1       1  \n",
       "10709      20150810                0         1       1  \n",
       "10749      20150810                0         1       1  \n",
       "10750      20150810                0         1       1  \n",
       "10753      20150810                0         1       1  \n",
       "10754      20150810                0         1       1  \n",
       "10755      20160207            95051         0       1  \n",
       "10764      20160207            67847         0       1  \n",
       "10770      20150810                0         1       1  "
      ]
     },
     "execution_count": 12,
     "metadata": {},
     "output_type": "execute_result"
    }
   ],
   "source": [
    "pub = so[so.artist_id == aid]\n",
    "pub[pub.publish_time >= 20150101]"
   ]
  },
  {
   "cell_type": "code",
   "execution_count": 8,
   "metadata": {
    "collapsed": false
   },
   "outputs": [
    {
     "data": {
      "text/html": [
       "<div>\n",
       "<table border=\"1\" class=\"dataframe\">\n",
       "  <thead>\n",
       "    <tr style=\"text-align: right;\">\n",
       "      <th></th>\n",
       "      <th>plays</th>\n",
       "    </tr>\n",
       "    <tr>\n",
       "      <th>Ds</th>\n",
       "      <th></th>\n",
       "    </tr>\n",
       "  </thead>\n",
       "  <tbody>\n",
       "    <tr>\n",
       "      <th>2015-08-26</th>\n",
       "      <td>1883</td>\n",
       "    </tr>\n",
       "    <tr>\n",
       "      <th>2015-08-27</th>\n",
       "      <td>1684</td>\n",
       "    </tr>\n",
       "    <tr>\n",
       "      <th>2015-08-28</th>\n",
       "      <td>1415</td>\n",
       "    </tr>\n",
       "    <tr>\n",
       "      <th>2015-08-29</th>\n",
       "      <td>1502</td>\n",
       "    </tr>\n",
       "    <tr>\n",
       "      <th>2015-08-30</th>\n",
       "      <td>1463</td>\n",
       "    </tr>\n",
       "  </tbody>\n",
       "</table>\n",
       "</div>"
      ],
      "text/plain": [
       "            plays\n",
       "Ds               \n",
       "2015-08-26   1883\n",
       "2015-08-27   1684\n",
       "2015-08-28   1415\n",
       "2015-08-29   1502\n",
       "2015-08-30   1463"
      ]
     },
     "execution_count": 8,
     "metadata": {},
     "output_type": "execute_result"
    }
   ],
   "source": [
    "one.tail()"
   ]
  },
  {
   "cell_type": "code",
   "execution_count": 8,
   "metadata": {
    "collapsed": false
   },
   "outputs": [
    {
     "data": {
      "text/plain": [
       "plays    2355.951613\n",
       "dtype: float64"
      ]
     },
     "execution_count": 8,
     "metadata": {},
     "output_type": "execute_result"
    }
   ],
   "source": [
    "one['20150515':'20150715'].mean()"
   ]
  },
  {
   "cell_type": "code",
   "execution_count": 9,
   "metadata": {
    "collapsed": false
   },
   "outputs": [
    {
     "data": {
      "text/plain": [
       "plays    2341.462963\n",
       "dtype: float64"
      ]
     },
     "execution_count": 9,
     "metadata": {},
     "output_type": "execute_result"
    }
   ],
   "source": [
    "one['20150515':'20150830'].mean()"
   ]
  },
  {
   "cell_type": "code",
   "execution_count": 29,
   "metadata": {
    "collapsed": false
   },
   "outputs": [],
   "source": [
    "pub = pub['publish_time'].unique()"
   ]
  },
  {
   "cell_type": "code",
   "execution_count": 21,
   "metadata": {
    "collapsed": false
   },
   "outputs": [],
   "source": [
    "b = pd.datetime.strptime(str(a[0]), '%Y%m%d')"
   ]
  },
  {
   "cell_type": "code",
   "execution_count": 34,
   "metadata": {
    "collapsed": false
   },
   "outputs": [],
   "source": [
    "a = pd.date_range(start=b, periods=7)"
   ]
  },
  {
   "cell_type": "code",
   "execution_count": 30,
   "metadata": {
    "collapsed": false
   },
   "outputs": [],
   "source": [
    "pub = [pd.datetime.strptime(str(x), '%Y%m%d') for x in pub]"
   ]
  },
  {
   "cell_type": "code",
   "execution_count": 31,
   "metadata": {
    "collapsed": false
   },
   "outputs": [
    {
     "data": {
      "text/plain": [
       "[datetime.datetime(2009, 6, 6, 0, 0),\n",
       " datetime.datetime(2015, 8, 10, 0, 0),\n",
       " datetime.datetime(2010, 10, 27, 0, 0),\n",
       " datetime.datetime(2016, 2, 7, 0, 0),\n",
       " datetime.datetime(2014, 6, 18, 0, 0),\n",
       " datetime.datetime(2012, 11, 20, 0, 0)]"
      ]
     },
     "execution_count": 31,
     "metadata": {},
     "output_type": "execute_result"
    }
   ],
   "source": [
    "pub"
   ]
  },
  {
   "cell_type": "code",
   "execution_count": 52,
   "metadata": {
    "collapsed": false
   },
   "outputs": [
    {
     "data": {
      "text/plain": [
       "[None, None, None, None, None, None]"
      ]
     },
     "execution_count": 52,
     "metadata": {},
     "output_type": "execute_result"
    }
   ],
   "source": [
    "pub_week = []\n",
    "[pub_week.extend(pd.date_range(start=x, periods=7).tolist()) for x in pub]"
   ]
  },
  {
   "cell_type": "code",
   "execution_count": 54,
   "metadata": {
    "collapsed": false
   },
   "outputs": [
    {
     "data": {
      "text/plain": [
       "True"
      ]
     },
     "execution_count": 54,
     "metadata": {},
     "output_type": "execute_result"
    }
   ],
   "source": [
    "pub[0] in pub_week"
   ]
  },
  {
   "cell_type": "code",
   "execution_count": null,
   "metadata": {
    "collapsed": true
   },
   "outputs": [],
   "source": []
  },
  {
   "cell_type": "code",
   "execution_count": null,
   "metadata": {
    "collapsed": false
   },
   "outputs": [],
   "source": []
  },
  {
   "cell_type": "code",
   "execution_count": null,
   "metadata": {
    "collapsed": true
   },
   "outputs": [],
   "source": []
  },
  {
   "cell_type": "code",
   "execution_count": null,
   "metadata": {
    "collapsed": true
   },
   "outputs": [],
   "source": []
  }
 ],
 "metadata": {
  "kernelspec": {
   "display_name": "Python 2",
   "language": "python",
   "name": "python2"
  },
  "language_info": {
   "codemirror_mode": {
    "name": "ipython",
    "version": 2
   },
   "file_extension": ".py",
   "mimetype": "text/x-python",
   "name": "python",
   "nbconvert_exporter": "python",
   "pygments_lexer": "ipython2",
   "version": "2.7.11"
  }
 },
 "nbformat": 4,
 "nbformat_minor": 0
}
