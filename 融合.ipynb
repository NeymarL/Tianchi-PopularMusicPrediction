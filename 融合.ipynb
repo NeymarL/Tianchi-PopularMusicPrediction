{
 "cells": [
  {
   "cell_type": "code",
   "execution_count": 1,
   "metadata": {
    "collapsed": true
   },
   "outputs": [],
   "source": [
    "import pandas as pd\n",
    "import numpy as np"
   ]
  },
  {
   "cell_type": "code",
   "execution_count": 9,
   "metadata": {
    "collapsed": true
   },
   "outputs": [],
   "source": [
    "model1 = pd.read_csv('datas/p2sqrt_mean10.csv', names=['aid', 'plays', 'Ds'])"
   ]
  },
  {
   "cell_type": "code",
   "execution_count": 10,
   "metadata": {
    "collapsed": true
   },
   "outputs": [],
   "source": [
    "model2 = pd.read_csv('datas/song_log.csv', names=['aid', 'plays', 'Ds'])"
   ]
  },
  {
   "cell_type": "code",
   "execution_count": 6,
   "metadata": {
    "collapsed": true
   },
   "outputs": [],
   "source": [
    "model3 = pd.read_csv('datas/p2_mean10.csv', names=['aid', 'plays', 'Ds'])"
   ]
  },
  {
   "cell_type": "code",
   "execution_count": 17,
   "metadata": {
    "collapsed": false
   },
   "outputs": [],
   "source": [
    "new_model = pd.merge(model1, model2, on=['aid', 'Ds'])"
   ]
  },
  {
   "cell_type": "code",
   "execution_count": 18,
   "metadata": {
    "collapsed": false
   },
   "outputs": [],
   "source": [
    "new_model.insert(2, 'plays', new_model['plays_x'] * 0.3 + new_model['plays_y'] * 0.7)\n",
    "new_model['plays'] = new_model['plays'].astype('int')"
   ]
  },
  {
   "cell_type": "code",
   "execution_count": 20,
   "metadata": {
    "collapsed": false
   },
   "outputs": [
    {
     "name": "stdout",
     "output_type": "stream",
     "text": [
      "\n"
     ]
    }
   ],
   "source": [
    "new_model.pop('plays_x')\n",
    "new_model.pop('plays_y')\n",
    "new_model['plays'] = new_model['plays'].astype('int')\n",
    "print ''"
   ]
  },
  {
   "cell_type": "markdown",
   "metadata": {},
   "source": [
    "* mean10 \n",
    "    * c026b84e8f23a7741d9b670e3d8973f0  \n",
    "    * 5ce35e3085934e1621766ba766437754 \n",
    "    * 300dde62b988fc83eb6dba1b702e9af3\n",
    "    * bc14447beab5353ef057c3ec90199576\n",
    "    * c5f0170f87a2fbb17bf65dc858c745e2\n",
    "* mean all\n",
    "    * c7425ea3ecbea3a51b5550c698be7e71\n",
    "* 最后一天 c026b84e8f23a7741d9b670e3d8973f0  1463"
   ]
  },
  {
   "cell_type": "code",
   "execution_count": 8,
   "metadata": {
    "collapsed": false
   },
   "outputs": [],
   "source": [
    "idx = new_model[new_model.aid == 'c7425ea3ecbea3a51b5550c698be7e71'].index"
   ]
  },
  {
   "cell_type": "code",
   "execution_count": 9,
   "metadata": {
    "collapsed": false
   },
   "outputs": [],
   "source": [
    "new_model.loc[idx, 'plays'] = model1.loc[idx, 'plays']"
   ]
  },
  {
   "cell_type": "code",
   "execution_count": 19,
   "metadata": {
    "collapsed": false
   },
   "outputs": [],
   "source": [
    "for aid in new_model.aid.unique():\n",
    "    idx = new_model[new_model.aid == aid].index\n",
    "    if new_model.loc[idx, 'plays_y'].max() < 1000 and new_model.loc[idx, 'plays_y'].max() > model1.loc[idx, 'plays'].max():\n",
    "        new_model.loc[idx, 'plays'] = model1.loc[idx, 'plays'] * 0.8 + model2.loc[idx, 'plays'] * 0.2"
   ]
  },
  {
   "cell_type": "code",
   "execution_count": 8,
   "metadata": {
    "collapsed": true
   },
   "outputs": [],
   "source": [
    "new_model = pd.merge(new_model, model3, on=['aid', 'Ds'])\n",
    "new_model.insert(2, 'plays', new_model['plays_x'] * 0.8 + new_model['plays_y'] * 0.2)\n",
    "new_model['plays'] = new_model['plays'].astype('int')"
   ]
  },
  {
   "cell_type": "code",
   "execution_count": null,
   "metadata": {
    "collapsed": false
   },
   "outputs": [],
   "source": []
  },
  {
   "cell_type": "code",
   "execution_count": 21,
   "metadata": {
    "collapsed": false
   },
   "outputs": [
    {
     "data": {
      "text/html": [
       "<div>\n",
       "<table border=\"1\" class=\"dataframe\">\n",
       "  <thead>\n",
       "    <tr style=\"text-align: right;\">\n",
       "      <th></th>\n",
       "      <th>aid</th>\n",
       "      <th>plays</th>\n",
       "      <th>Ds</th>\n",
       "    </tr>\n",
       "  </thead>\n",
       "  <tbody>\n",
       "    <tr>\n",
       "      <th>0</th>\n",
       "      <td>023406156015ef87f99521f3b343f71f</td>\n",
       "      <td>438</td>\n",
       "      <td>20150901</td>\n",
       "    </tr>\n",
       "    <tr>\n",
       "      <th>1</th>\n",
       "      <td>023406156015ef87f99521f3b343f71f</td>\n",
       "      <td>438</td>\n",
       "      <td>20150902</td>\n",
       "    </tr>\n",
       "    <tr>\n",
       "      <th>2</th>\n",
       "      <td>023406156015ef87f99521f3b343f71f</td>\n",
       "      <td>438</td>\n",
       "      <td>20150903</td>\n",
       "    </tr>\n",
       "    <tr>\n",
       "      <th>3</th>\n",
       "      <td>023406156015ef87f99521f3b343f71f</td>\n",
       "      <td>438</td>\n",
       "      <td>20150904</td>\n",
       "    </tr>\n",
       "    <tr>\n",
       "      <th>4</th>\n",
       "      <td>023406156015ef87f99521f3b343f71f</td>\n",
       "      <td>438</td>\n",
       "      <td>20150905</td>\n",
       "    </tr>\n",
       "    <tr>\n",
       "      <th>5</th>\n",
       "      <td>023406156015ef87f99521f3b343f71f</td>\n",
       "      <td>438</td>\n",
       "      <td>20150906</td>\n",
       "    </tr>\n",
       "    <tr>\n",
       "      <th>6</th>\n",
       "      <td>023406156015ef87f99521f3b343f71f</td>\n",
       "      <td>438</td>\n",
       "      <td>20150907</td>\n",
       "    </tr>\n",
       "    <tr>\n",
       "      <th>7</th>\n",
       "      <td>023406156015ef87f99521f3b343f71f</td>\n",
       "      <td>438</td>\n",
       "      <td>20150908</td>\n",
       "    </tr>\n",
       "    <tr>\n",
       "      <th>8</th>\n",
       "      <td>023406156015ef87f99521f3b343f71f</td>\n",
       "      <td>438</td>\n",
       "      <td>20150909</td>\n",
       "    </tr>\n",
       "    <tr>\n",
       "      <th>9</th>\n",
       "      <td>023406156015ef87f99521f3b343f71f</td>\n",
       "      <td>438</td>\n",
       "      <td>20150910</td>\n",
       "    </tr>\n",
       "    <tr>\n",
       "      <th>10</th>\n",
       "      <td>023406156015ef87f99521f3b343f71f</td>\n",
       "      <td>438</td>\n",
       "      <td>20150911</td>\n",
       "    </tr>\n",
       "    <tr>\n",
       "      <th>11</th>\n",
       "      <td>023406156015ef87f99521f3b343f71f</td>\n",
       "      <td>438</td>\n",
       "      <td>20150912</td>\n",
       "    </tr>\n",
       "    <tr>\n",
       "      <th>12</th>\n",
       "      <td>023406156015ef87f99521f3b343f71f</td>\n",
       "      <td>438</td>\n",
       "      <td>20150913</td>\n",
       "    </tr>\n",
       "    <tr>\n",
       "      <th>13</th>\n",
       "      <td>023406156015ef87f99521f3b343f71f</td>\n",
       "      <td>438</td>\n",
       "      <td>20150914</td>\n",
       "    </tr>\n",
       "    <tr>\n",
       "      <th>14</th>\n",
       "      <td>023406156015ef87f99521f3b343f71f</td>\n",
       "      <td>438</td>\n",
       "      <td>20150915</td>\n",
       "    </tr>\n",
       "    <tr>\n",
       "      <th>15</th>\n",
       "      <td>023406156015ef87f99521f3b343f71f</td>\n",
       "      <td>438</td>\n",
       "      <td>20150916</td>\n",
       "    </tr>\n",
       "    <tr>\n",
       "      <th>16</th>\n",
       "      <td>023406156015ef87f99521f3b343f71f</td>\n",
       "      <td>438</td>\n",
       "      <td>20150917</td>\n",
       "    </tr>\n",
       "    <tr>\n",
       "      <th>17</th>\n",
       "      <td>023406156015ef87f99521f3b343f71f</td>\n",
       "      <td>438</td>\n",
       "      <td>20150918</td>\n",
       "    </tr>\n",
       "    <tr>\n",
       "      <th>18</th>\n",
       "      <td>023406156015ef87f99521f3b343f71f</td>\n",
       "      <td>438</td>\n",
       "      <td>20150919</td>\n",
       "    </tr>\n",
       "    <tr>\n",
       "      <th>19</th>\n",
       "      <td>023406156015ef87f99521f3b343f71f</td>\n",
       "      <td>438</td>\n",
       "      <td>20150920</td>\n",
       "    </tr>\n",
       "    <tr>\n",
       "      <th>20</th>\n",
       "      <td>023406156015ef87f99521f3b343f71f</td>\n",
       "      <td>438</td>\n",
       "      <td>20150921</td>\n",
       "    </tr>\n",
       "    <tr>\n",
       "      <th>21</th>\n",
       "      <td>023406156015ef87f99521f3b343f71f</td>\n",
       "      <td>438</td>\n",
       "      <td>20150922</td>\n",
       "    </tr>\n",
       "    <tr>\n",
       "      <th>22</th>\n",
       "      <td>023406156015ef87f99521f3b343f71f</td>\n",
       "      <td>438</td>\n",
       "      <td>20150923</td>\n",
       "    </tr>\n",
       "    <tr>\n",
       "      <th>23</th>\n",
       "      <td>023406156015ef87f99521f3b343f71f</td>\n",
       "      <td>438</td>\n",
       "      <td>20150924</td>\n",
       "    </tr>\n",
       "    <tr>\n",
       "      <th>24</th>\n",
       "      <td>023406156015ef87f99521f3b343f71f</td>\n",
       "      <td>438</td>\n",
       "      <td>20150925</td>\n",
       "    </tr>\n",
       "    <tr>\n",
       "      <th>25</th>\n",
       "      <td>023406156015ef87f99521f3b343f71f</td>\n",
       "      <td>438</td>\n",
       "      <td>20150926</td>\n",
       "    </tr>\n",
       "    <tr>\n",
       "      <th>26</th>\n",
       "      <td>023406156015ef87f99521f3b343f71f</td>\n",
       "      <td>438</td>\n",
       "      <td>20150927</td>\n",
       "    </tr>\n",
       "    <tr>\n",
       "      <th>27</th>\n",
       "      <td>023406156015ef87f99521f3b343f71f</td>\n",
       "      <td>438</td>\n",
       "      <td>20150928</td>\n",
       "    </tr>\n",
       "    <tr>\n",
       "      <th>28</th>\n",
       "      <td>023406156015ef87f99521f3b343f71f</td>\n",
       "      <td>438</td>\n",
       "      <td>20150929</td>\n",
       "    </tr>\n",
       "    <tr>\n",
       "      <th>29</th>\n",
       "      <td>023406156015ef87f99521f3b343f71f</td>\n",
       "      <td>438</td>\n",
       "      <td>20150930</td>\n",
       "    </tr>\n",
       "    <tr>\n",
       "      <th>...</th>\n",
       "      <td>...</td>\n",
       "      <td>...</td>\n",
       "      <td>...</td>\n",
       "    </tr>\n",
       "    <tr>\n",
       "      <th>5970</th>\n",
       "      <td>ffd47cf9cb66d226575336f0fa42ae25</td>\n",
       "      <td>90</td>\n",
       "      <td>20151001</td>\n",
       "    </tr>\n",
       "    <tr>\n",
       "      <th>5971</th>\n",
       "      <td>ffd47cf9cb66d226575336f0fa42ae25</td>\n",
       "      <td>90</td>\n",
       "      <td>20151002</td>\n",
       "    </tr>\n",
       "    <tr>\n",
       "      <th>5972</th>\n",
       "      <td>ffd47cf9cb66d226575336f0fa42ae25</td>\n",
       "      <td>90</td>\n",
       "      <td>20151003</td>\n",
       "    </tr>\n",
       "    <tr>\n",
       "      <th>5973</th>\n",
       "      <td>ffd47cf9cb66d226575336f0fa42ae25</td>\n",
       "      <td>90</td>\n",
       "      <td>20151004</td>\n",
       "    </tr>\n",
       "    <tr>\n",
       "      <th>5974</th>\n",
       "      <td>ffd47cf9cb66d226575336f0fa42ae25</td>\n",
       "      <td>90</td>\n",
       "      <td>20151005</td>\n",
       "    </tr>\n",
       "    <tr>\n",
       "      <th>5975</th>\n",
       "      <td>ffd47cf9cb66d226575336f0fa42ae25</td>\n",
       "      <td>90</td>\n",
       "      <td>20151006</td>\n",
       "    </tr>\n",
       "    <tr>\n",
       "      <th>5976</th>\n",
       "      <td>ffd47cf9cb66d226575336f0fa42ae25</td>\n",
       "      <td>90</td>\n",
       "      <td>20151007</td>\n",
       "    </tr>\n",
       "    <tr>\n",
       "      <th>5977</th>\n",
       "      <td>ffd47cf9cb66d226575336f0fa42ae25</td>\n",
       "      <td>90</td>\n",
       "      <td>20151008</td>\n",
       "    </tr>\n",
       "    <tr>\n",
       "      <th>5978</th>\n",
       "      <td>ffd47cf9cb66d226575336f0fa42ae25</td>\n",
       "      <td>90</td>\n",
       "      <td>20151009</td>\n",
       "    </tr>\n",
       "    <tr>\n",
       "      <th>5979</th>\n",
       "      <td>ffd47cf9cb66d226575336f0fa42ae25</td>\n",
       "      <td>90</td>\n",
       "      <td>20151010</td>\n",
       "    </tr>\n",
       "    <tr>\n",
       "      <th>5980</th>\n",
       "      <td>ffd47cf9cb66d226575336f0fa42ae25</td>\n",
       "      <td>90</td>\n",
       "      <td>20151011</td>\n",
       "    </tr>\n",
       "    <tr>\n",
       "      <th>5981</th>\n",
       "      <td>ffd47cf9cb66d226575336f0fa42ae25</td>\n",
       "      <td>90</td>\n",
       "      <td>20151012</td>\n",
       "    </tr>\n",
       "    <tr>\n",
       "      <th>5982</th>\n",
       "      <td>ffd47cf9cb66d226575336f0fa42ae25</td>\n",
       "      <td>90</td>\n",
       "      <td>20151013</td>\n",
       "    </tr>\n",
       "    <tr>\n",
       "      <th>5983</th>\n",
       "      <td>ffd47cf9cb66d226575336f0fa42ae25</td>\n",
       "      <td>90</td>\n",
       "      <td>20151014</td>\n",
       "    </tr>\n",
       "    <tr>\n",
       "      <th>5984</th>\n",
       "      <td>ffd47cf9cb66d226575336f0fa42ae25</td>\n",
       "      <td>90</td>\n",
       "      <td>20151015</td>\n",
       "    </tr>\n",
       "    <tr>\n",
       "      <th>5985</th>\n",
       "      <td>ffd47cf9cb66d226575336f0fa42ae25</td>\n",
       "      <td>90</td>\n",
       "      <td>20151016</td>\n",
       "    </tr>\n",
       "    <tr>\n",
       "      <th>5986</th>\n",
       "      <td>ffd47cf9cb66d226575336f0fa42ae25</td>\n",
       "      <td>90</td>\n",
       "      <td>20151017</td>\n",
       "    </tr>\n",
       "    <tr>\n",
       "      <th>5987</th>\n",
       "      <td>ffd47cf9cb66d226575336f0fa42ae25</td>\n",
       "      <td>90</td>\n",
       "      <td>20151018</td>\n",
       "    </tr>\n",
       "    <tr>\n",
       "      <th>5988</th>\n",
       "      <td>ffd47cf9cb66d226575336f0fa42ae25</td>\n",
       "      <td>90</td>\n",
       "      <td>20151019</td>\n",
       "    </tr>\n",
       "    <tr>\n",
       "      <th>5989</th>\n",
       "      <td>ffd47cf9cb66d226575336f0fa42ae25</td>\n",
       "      <td>90</td>\n",
       "      <td>20151020</td>\n",
       "    </tr>\n",
       "    <tr>\n",
       "      <th>5990</th>\n",
       "      <td>ffd47cf9cb66d226575336f0fa42ae25</td>\n",
       "      <td>90</td>\n",
       "      <td>20151021</td>\n",
       "    </tr>\n",
       "    <tr>\n",
       "      <th>5991</th>\n",
       "      <td>ffd47cf9cb66d226575336f0fa42ae25</td>\n",
       "      <td>90</td>\n",
       "      <td>20151022</td>\n",
       "    </tr>\n",
       "    <tr>\n",
       "      <th>5992</th>\n",
       "      <td>ffd47cf9cb66d226575336f0fa42ae25</td>\n",
       "      <td>90</td>\n",
       "      <td>20151023</td>\n",
       "    </tr>\n",
       "    <tr>\n",
       "      <th>5993</th>\n",
       "      <td>ffd47cf9cb66d226575336f0fa42ae25</td>\n",
       "      <td>90</td>\n",
       "      <td>20151024</td>\n",
       "    </tr>\n",
       "    <tr>\n",
       "      <th>5994</th>\n",
       "      <td>ffd47cf9cb66d226575336f0fa42ae25</td>\n",
       "      <td>90</td>\n",
       "      <td>20151025</td>\n",
       "    </tr>\n",
       "    <tr>\n",
       "      <th>5995</th>\n",
       "      <td>ffd47cf9cb66d226575336f0fa42ae25</td>\n",
       "      <td>90</td>\n",
       "      <td>20151026</td>\n",
       "    </tr>\n",
       "    <tr>\n",
       "      <th>5996</th>\n",
       "      <td>ffd47cf9cb66d226575336f0fa42ae25</td>\n",
       "      <td>90</td>\n",
       "      <td>20151027</td>\n",
       "    </tr>\n",
       "    <tr>\n",
       "      <th>5997</th>\n",
       "      <td>ffd47cf9cb66d226575336f0fa42ae25</td>\n",
       "      <td>90</td>\n",
       "      <td>20151028</td>\n",
       "    </tr>\n",
       "    <tr>\n",
       "      <th>5998</th>\n",
       "      <td>ffd47cf9cb66d226575336f0fa42ae25</td>\n",
       "      <td>90</td>\n",
       "      <td>20151029</td>\n",
       "    </tr>\n",
       "    <tr>\n",
       "      <th>5999</th>\n",
       "      <td>ffd47cf9cb66d226575336f0fa42ae25</td>\n",
       "      <td>90</td>\n",
       "      <td>20151030</td>\n",
       "    </tr>\n",
       "  </tbody>\n",
       "</table>\n",
       "<p>6000 rows × 3 columns</p>\n",
       "</div>"
      ],
      "text/plain": [
       "                                   aid  plays        Ds\n",
       "0     023406156015ef87f99521f3b343f71f    438  20150901\n",
       "1     023406156015ef87f99521f3b343f71f    438  20150902\n",
       "2     023406156015ef87f99521f3b343f71f    438  20150903\n",
       "3     023406156015ef87f99521f3b343f71f    438  20150904\n",
       "4     023406156015ef87f99521f3b343f71f    438  20150905\n",
       "5     023406156015ef87f99521f3b343f71f    438  20150906\n",
       "6     023406156015ef87f99521f3b343f71f    438  20150907\n",
       "7     023406156015ef87f99521f3b343f71f    438  20150908\n",
       "8     023406156015ef87f99521f3b343f71f    438  20150909\n",
       "9     023406156015ef87f99521f3b343f71f    438  20150910\n",
       "10    023406156015ef87f99521f3b343f71f    438  20150911\n",
       "11    023406156015ef87f99521f3b343f71f    438  20150912\n",
       "12    023406156015ef87f99521f3b343f71f    438  20150913\n",
       "13    023406156015ef87f99521f3b343f71f    438  20150914\n",
       "14    023406156015ef87f99521f3b343f71f    438  20150915\n",
       "15    023406156015ef87f99521f3b343f71f    438  20150916\n",
       "16    023406156015ef87f99521f3b343f71f    438  20150917\n",
       "17    023406156015ef87f99521f3b343f71f    438  20150918\n",
       "18    023406156015ef87f99521f3b343f71f    438  20150919\n",
       "19    023406156015ef87f99521f3b343f71f    438  20150920\n",
       "20    023406156015ef87f99521f3b343f71f    438  20150921\n",
       "21    023406156015ef87f99521f3b343f71f    438  20150922\n",
       "22    023406156015ef87f99521f3b343f71f    438  20150923\n",
       "23    023406156015ef87f99521f3b343f71f    438  20150924\n",
       "24    023406156015ef87f99521f3b343f71f    438  20150925\n",
       "25    023406156015ef87f99521f3b343f71f    438  20150926\n",
       "26    023406156015ef87f99521f3b343f71f    438  20150927\n",
       "27    023406156015ef87f99521f3b343f71f    438  20150928\n",
       "28    023406156015ef87f99521f3b343f71f    438  20150929\n",
       "29    023406156015ef87f99521f3b343f71f    438  20150930\n",
       "...                                ...    ...       ...\n",
       "5970  ffd47cf9cb66d226575336f0fa42ae25     90  20151001\n",
       "5971  ffd47cf9cb66d226575336f0fa42ae25     90  20151002\n",
       "5972  ffd47cf9cb66d226575336f0fa42ae25     90  20151003\n",
       "5973  ffd47cf9cb66d226575336f0fa42ae25     90  20151004\n",
       "5974  ffd47cf9cb66d226575336f0fa42ae25     90  20151005\n",
       "5975  ffd47cf9cb66d226575336f0fa42ae25     90  20151006\n",
       "5976  ffd47cf9cb66d226575336f0fa42ae25     90  20151007\n",
       "5977  ffd47cf9cb66d226575336f0fa42ae25     90  20151008\n",
       "5978  ffd47cf9cb66d226575336f0fa42ae25     90  20151009\n",
       "5979  ffd47cf9cb66d226575336f0fa42ae25     90  20151010\n",
       "5980  ffd47cf9cb66d226575336f0fa42ae25     90  20151011\n",
       "5981  ffd47cf9cb66d226575336f0fa42ae25     90  20151012\n",
       "5982  ffd47cf9cb66d226575336f0fa42ae25     90  20151013\n",
       "5983  ffd47cf9cb66d226575336f0fa42ae25     90  20151014\n",
       "5984  ffd47cf9cb66d226575336f0fa42ae25     90  20151015\n",
       "5985  ffd47cf9cb66d226575336f0fa42ae25     90  20151016\n",
       "5986  ffd47cf9cb66d226575336f0fa42ae25     90  20151017\n",
       "5987  ffd47cf9cb66d226575336f0fa42ae25     90  20151018\n",
       "5988  ffd47cf9cb66d226575336f0fa42ae25     90  20151019\n",
       "5989  ffd47cf9cb66d226575336f0fa42ae25     90  20151020\n",
       "5990  ffd47cf9cb66d226575336f0fa42ae25     90  20151021\n",
       "5991  ffd47cf9cb66d226575336f0fa42ae25     90  20151022\n",
       "5992  ffd47cf9cb66d226575336f0fa42ae25     90  20151023\n",
       "5993  ffd47cf9cb66d226575336f0fa42ae25     90  20151024\n",
       "5994  ffd47cf9cb66d226575336f0fa42ae25     90  20151025\n",
       "5995  ffd47cf9cb66d226575336f0fa42ae25     90  20151026\n",
       "5996  ffd47cf9cb66d226575336f0fa42ae25     90  20151027\n",
       "5997  ffd47cf9cb66d226575336f0fa42ae25     90  20151028\n",
       "5998  ffd47cf9cb66d226575336f0fa42ae25     90  20151029\n",
       "5999  ffd47cf9cb66d226575336f0fa42ae25     90  20151030\n",
       "\n",
       "[6000 rows x 3 columns]"
      ]
     },
     "execution_count": 21,
     "metadata": {},
     "output_type": "execute_result"
    }
   ],
   "source": [
    "new_model.to_csv('datas/song_new2.csv', index=False)\n",
    "new_model"
   ]
  },
  {
   "cell_type": "code",
   "execution_count": 26,
   "metadata": {
    "collapsed": true
   },
   "outputs": [],
   "source": [
    "new_model['plays'] = new_model['plays'].astype('int')"
   ]
  },
  {
   "cell_type": "code",
   "execution_count": 17,
   "metadata": {
    "collapsed": false
   },
   "outputs": [
    {
     "data": {
      "text/plain": [
       "1"
      ]
     },
     "execution_count": 17,
     "metadata": {},
     "output_type": "execute_result"
    }
   ],
   "source": [
    "min(1,2,3)"
   ]
  },
  {
   "cell_type": "code",
   "execution_count": 18,
   "metadata": {
    "collapsed": false
   },
   "outputs": [
    {
     "data": {
      "text/plain": [
       "<function abs>"
      ]
     },
     "execution_count": 18,
     "metadata": {},
     "output_type": "execute_result"
    }
   ],
   "source": [
    "abs"
   ]
  },
  {
   "cell_type": "code",
   "execution_count": 19,
   "metadata": {
    "collapsed": false
   },
   "outputs": [
    {
     "data": {
      "text/plain": [
       "3"
      ]
     },
     "execution_count": 19,
     "metadata": {},
     "output_type": "execute_result"
    }
   ],
   "source": [
    "l = [1, 2, 3]\n",
    "l[-1]"
   ]
  },
  {
   "cell_type": "code",
   "execution_count": 20,
   "metadata": {
    "collapsed": true
   },
   "outputs": [],
   "source": [
    "import pandas as pd\n",
    "import numpy as np\n",
    "import matplotlib.pylab as plt\n",
    "\n",
    "# origin data\n",
    "dateparse = lambda dates: pd.datetime.strptime(dates, '%Y%m%d')\n",
    "'''\n",
    "ua = pd.read_csv('datas/p2_mars_tianchi_user_actions.csv',\n",
    "                 parse_dates='Ds', date_parser=dateparse)\n",
    "so = pd.read_csv('datas/p2_mars_tianchi_songs.csv')\n",
    "\n",
    "data = pd.merge(ua, so, on=['song_id'])\n",
    "arts = data[data.action_type == 1].groupby(['artist_id',\n",
    "                                            'Ds'])['action_type'].sum()\n",
    "arts.to_csv('datas/arts.csv')\n",
    "'''\n",
    "arts = pd.read_csv('datas/arts.csv', names=['artist_id', 'Ds', 'plays'],\n",
    "                   parse_dates='Ds', date_parser=dateparse, index_col='Ds')\n",
    "\n",
    "result = pd.DataFrame(columns=['artist_id', 'plays', 'Ds'])\n"
   ]
  },
  {
   "cell_type": "code",
   "execution_count": 21,
   "metadata": {
    "collapsed": true
   },
   "outputs": [],
   "source": [
    "aid = '023406156015ef87f99521f3b343f71f'"
   ]
  },
  {
   "cell_type": "code",
   "execution_count": 22,
   "metadata": {
    "collapsed": true
   },
   "outputs": [],
   "source": [
    "one = arts[arts.artist_id == aid]\n",
    "one.pop('artist_id')\n",
    "mean30 = one['20150801':'20150830'].mean()\n",
    "mean15 = one['20150815':'20150830'].mean()\n",
    "mean10 = one['20150820':'20150830'].mean()\n",
    "last = one['20150830':'20150830'].mean()"
   ]
  },
  {
   "cell_type": "code",
   "execution_count": 28,
   "metadata": {
    "collapsed": false
   },
   "outputs": [
    {
     "data": {
      "text/plain": [
       "454.0"
      ]
     },
     "execution_count": 28,
     "metadata": {},
     "output_type": "execute_result"
    }
   ],
   "source": [
    "last.tolist()[0]"
   ]
  },
  {
   "cell_type": "code",
   "execution_count": 24,
   "metadata": {
    "collapsed": false
   },
   "outputs": [
    {
     "data": {
      "text/plain": [
       "plays    460.933333\n",
       "dtype: float64"
      ]
     },
     "execution_count": 24,
     "metadata": {},
     "output_type": "execute_result"
    }
   ],
   "source": [
    "mean30"
   ]
  },
  {
   "cell_type": "code",
   "execution_count": null,
   "metadata": {
    "collapsed": true
   },
   "outputs": [],
   "source": []
  }
 ],
 "metadata": {
  "kernelspec": {
   "display_name": "Python 2",
   "language": "python",
   "name": "python2"
  },
  "language_info": {
   "codemirror_mode": {
    "name": "ipython",
    "version": 2
   },
   "file_extension": ".py",
   "mimetype": "text/x-python",
   "name": "python",
   "nbconvert_exporter": "python",
   "pygments_lexer": "ipython2",
   "version": "2.7.11"
  }
 },
 "nbformat": 4,
 "nbformat_minor": 0
}
